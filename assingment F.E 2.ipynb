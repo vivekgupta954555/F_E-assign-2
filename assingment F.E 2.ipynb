{
 "cells": [
  {
   "cell_type": "markdown",
   "id": "94c3cf3c-197e-4985-8de9-760775993d99",
   "metadata": {},
   "source": [
    "##  QUES NO 1"
   ]
  },
  {
   "cell_type": "code",
   "execution_count": null,
   "id": "c408691b-3323-4e2b-b17d-152ae5f518c5",
   "metadata": {},
   "outputs": [],
   "source": [
    "MinMax Scaler\n",
    "\n",
    "There is another way of data scaling, where the minimum of feature is made equal to zero and the maximum of \n",
    "feature equal to one. MinMax Scaler shrinks the data within the given range, usually of 0 to 1. It transforms data by\n",
    "scaling features to a given range. It scales the values to a specific value range without changing the shape of the\n",
    "original distribution."
   ]
  },
  {
   "cell_type": "code",
   "execution_count": 2,
   "id": "fd14f7c1-2460-47d1-b322-744d1c680258",
   "metadata": {},
   "outputs": [],
   "source": [
    "import seaborn as  sns\n"
   ]
  },
  {
   "cell_type": "code",
   "execution_count": 3,
   "id": "d753a533-0bc0-431f-828b-1847ab791683",
   "metadata": {},
   "outputs": [],
   "source": [
    "df =sns.load_dataset('iris')"
   ]
  },
  {
   "cell_type": "code",
   "execution_count": 4,
   "id": "5982b603-b6c9-46f6-8d34-cef30834cf27",
   "metadata": {},
   "outputs": [
    {
     "data": {
      "text/html": [
       "<div>\n",
       "<style scoped>\n",
       "    .dataframe tbody tr th:only-of-type {\n",
       "        vertical-align: middle;\n",
       "    }\n",
       "\n",
       "    .dataframe tbody tr th {\n",
       "        vertical-align: top;\n",
       "    }\n",
       "\n",
       "    .dataframe thead th {\n",
       "        text-align: right;\n",
       "    }\n",
       "</style>\n",
       "<table border=\"1\" class=\"dataframe\">\n",
       "  <thead>\n",
       "    <tr style=\"text-align: right;\">\n",
       "      <th></th>\n",
       "      <th>sepal_length</th>\n",
       "      <th>sepal_width</th>\n",
       "      <th>petal_length</th>\n",
       "      <th>petal_width</th>\n",
       "      <th>species</th>\n",
       "    </tr>\n",
       "  </thead>\n",
       "  <tbody>\n",
       "    <tr>\n",
       "      <th>0</th>\n",
       "      <td>5.1</td>\n",
       "      <td>3.5</td>\n",
       "      <td>1.4</td>\n",
       "      <td>0.2</td>\n",
       "      <td>setosa</td>\n",
       "    </tr>\n",
       "    <tr>\n",
       "      <th>1</th>\n",
       "      <td>4.9</td>\n",
       "      <td>3.0</td>\n",
       "      <td>1.4</td>\n",
       "      <td>0.2</td>\n",
       "      <td>setosa</td>\n",
       "    </tr>\n",
       "    <tr>\n",
       "      <th>2</th>\n",
       "      <td>4.7</td>\n",
       "      <td>3.2</td>\n",
       "      <td>1.3</td>\n",
       "      <td>0.2</td>\n",
       "      <td>setosa</td>\n",
       "    </tr>\n",
       "    <tr>\n",
       "      <th>3</th>\n",
       "      <td>4.6</td>\n",
       "      <td>3.1</td>\n",
       "      <td>1.5</td>\n",
       "      <td>0.2</td>\n",
       "      <td>setosa</td>\n",
       "    </tr>\n",
       "    <tr>\n",
       "      <th>4</th>\n",
       "      <td>5.0</td>\n",
       "      <td>3.6</td>\n",
       "      <td>1.4</td>\n",
       "      <td>0.2</td>\n",
       "      <td>setosa</td>\n",
       "    </tr>\n",
       "  </tbody>\n",
       "</table>\n",
       "</div>"
      ],
      "text/plain": [
       "   sepal_length  sepal_width  petal_length  petal_width species\n",
       "0           5.1          3.5           1.4          0.2  setosa\n",
       "1           4.9          3.0           1.4          0.2  setosa\n",
       "2           4.7          3.2           1.3          0.2  setosa\n",
       "3           4.6          3.1           1.5          0.2  setosa\n",
       "4           5.0          3.6           1.4          0.2  setosa"
      ]
     },
     "execution_count": 4,
     "metadata": {},
     "output_type": "execute_result"
    }
   ],
   "source": [
    "df.head()"
   ]
  },
  {
   "cell_type": "code",
   "execution_count": 5,
   "id": "b3b45282-bfc3-4830-9282-eaf9e617a163",
   "metadata": {},
   "outputs": [],
   "source": [
    "from sklearn.preprocessing import MinMaxScaler\n",
    "scaler=MinMaxScaler()"
   ]
  },
  {
   "cell_type": "code",
   "execution_count": 6,
   "id": "6ed6db38-5461-4304-b0ee-68de6db7ab64",
   "metadata": {},
   "outputs": [],
   "source": [
    "model = scaler.fit_transform(df[['sepal_length','sepal_width','petal_length','petal_width']])"
   ]
  },
  {
   "cell_type": "code",
   "execution_count": null,
   "id": "25cfa6fd-f644-4f2a-af36-6e00903a6d73",
   "metadata": {},
   "outputs": [],
   "source": [
    "model"
   ]
  },
  {
   "cell_type": "markdown",
   "id": "54715a34-9f5c-4e79-8711-a182473bb661",
   "metadata": {},
   "source": [
    "## QUES NO 2"
   ]
  },
  {
   "cell_type": "markdown",
   "id": "5411bc66-2484-4bc1-ba0d-880217e52a78",
   "metadata": {},
   "source": [
    "## UNIT VECTOR"
   ]
  },
  {
   "cell_type": "code",
   "execution_count": null,
   "id": "561e3a1f-6fbb-43cb-a7b8-ef50d4117ffc",
   "metadata": {},
   "outputs": [],
   "source": [
    "Scaling is done considering the whole feature vector to be of unit length. This usually means dividing each component \n",
    "by the Euclidean length of the vector (L2 Norm). In some applications (e.g., histogram features), it can be more practical\n",
    "to use the L1 norm of the feature vector.\n"
   ]
  },
  {
   "cell_type": "code",
   "execution_count": null,
   "id": "f5cefb5c-22c3-44ee-9461-b0acf4fc596c",
   "metadata": {},
   "outputs": [],
   "source": [
    "unit vector can be defined the Unit Vector technique produces values of range [0,1]. When dealing with features with\n",
    "hard boundaries, this is quite useful. For example, when dealing with image data, the colors can range from only 0 to 255\n",
    "where as min_max scaling defined as MinMaxScaler subtracts the minimum value in the feature and then divides by the range. \n",
    "The range is the difference between the original maximum and original minimum. MinMaxScaler preserves the shape of the\n",
    "original distribution. It doesn't meaningfully change the information embedded in the original data"
   ]
  },
  {
   "cell_type": "code",
   "execution_count": 7,
   "id": "ba0519f0-128f-45f7-9b4d-d3d5da83c5ff",
   "metadata": {},
   "outputs": [],
   "source": [
    "import seaborn as sns"
   ]
  },
  {
   "cell_type": "code",
   "execution_count": 15,
   "id": "b79bdd3c-eff9-4ee9-bd01-f8c4ea3fe7de",
   "metadata": {},
   "outputs": [],
   "source": [
    "df2 =  sns.load_dataset('car_crashes')"
   ]
  },
  {
   "cell_type": "code",
   "execution_count": 16,
   "id": "58d79585-6a38-4d58-b014-5bbb7230b2e4",
   "metadata": {},
   "outputs": [
    {
     "data": {
      "text/html": [
       "<div>\n",
       "<style scoped>\n",
       "    .dataframe tbody tr th:only-of-type {\n",
       "        vertical-align: middle;\n",
       "    }\n",
       "\n",
       "    .dataframe tbody tr th {\n",
       "        vertical-align: top;\n",
       "    }\n",
       "\n",
       "    .dataframe thead th {\n",
       "        text-align: right;\n",
       "    }\n",
       "</style>\n",
       "<table border=\"1\" class=\"dataframe\">\n",
       "  <thead>\n",
       "    <tr style=\"text-align: right;\">\n",
       "      <th></th>\n",
       "      <th>total</th>\n",
       "      <th>speeding</th>\n",
       "      <th>alcohol</th>\n",
       "      <th>not_distracted</th>\n",
       "      <th>no_previous</th>\n",
       "      <th>ins_premium</th>\n",
       "      <th>ins_losses</th>\n",
       "      <th>abbrev</th>\n",
       "    </tr>\n",
       "  </thead>\n",
       "  <tbody>\n",
       "    <tr>\n",
       "      <th>0</th>\n",
       "      <td>18.8</td>\n",
       "      <td>7.332</td>\n",
       "      <td>5.640</td>\n",
       "      <td>18.048</td>\n",
       "      <td>15.040</td>\n",
       "      <td>784.55</td>\n",
       "      <td>145.08</td>\n",
       "      <td>AL</td>\n",
       "    </tr>\n",
       "    <tr>\n",
       "      <th>1</th>\n",
       "      <td>18.1</td>\n",
       "      <td>7.421</td>\n",
       "      <td>4.525</td>\n",
       "      <td>16.290</td>\n",
       "      <td>17.014</td>\n",
       "      <td>1053.48</td>\n",
       "      <td>133.93</td>\n",
       "      <td>AK</td>\n",
       "    </tr>\n",
       "    <tr>\n",
       "      <th>2</th>\n",
       "      <td>18.6</td>\n",
       "      <td>6.510</td>\n",
       "      <td>5.208</td>\n",
       "      <td>15.624</td>\n",
       "      <td>17.856</td>\n",
       "      <td>899.47</td>\n",
       "      <td>110.35</td>\n",
       "      <td>AZ</td>\n",
       "    </tr>\n",
       "    <tr>\n",
       "      <th>3</th>\n",
       "      <td>22.4</td>\n",
       "      <td>4.032</td>\n",
       "      <td>5.824</td>\n",
       "      <td>21.056</td>\n",
       "      <td>21.280</td>\n",
       "      <td>827.34</td>\n",
       "      <td>142.39</td>\n",
       "      <td>AR</td>\n",
       "    </tr>\n",
       "    <tr>\n",
       "      <th>4</th>\n",
       "      <td>12.0</td>\n",
       "      <td>4.200</td>\n",
       "      <td>3.360</td>\n",
       "      <td>10.920</td>\n",
       "      <td>10.680</td>\n",
       "      <td>878.41</td>\n",
       "      <td>165.63</td>\n",
       "      <td>CA</td>\n",
       "    </tr>\n",
       "  </tbody>\n",
       "</table>\n",
       "</div>"
      ],
      "text/plain": [
       "   total  speeding  alcohol  not_distracted  no_previous  ins_premium  \\\n",
       "0   18.8     7.332    5.640          18.048       15.040       784.55   \n",
       "1   18.1     7.421    4.525          16.290       17.014      1053.48   \n",
       "2   18.6     6.510    5.208          15.624       17.856       899.47   \n",
       "3   22.4     4.032    5.824          21.056       21.280       827.34   \n",
       "4   12.0     4.200    3.360          10.920       10.680       878.41   \n",
       "\n",
       "   ins_losses abbrev  \n",
       "0      145.08     AL  \n",
       "1      133.93     AK  \n",
       "2      110.35     AZ  \n",
       "3      142.39     AR  \n",
       "4      165.63     CA  "
      ]
     },
     "execution_count": 16,
     "metadata": {},
     "output_type": "execute_result"
    }
   ],
   "source": [
    "df2.head()"
   ]
  },
  {
   "cell_type": "code",
   "execution_count": 17,
   "id": "fd6a849d-ccac-4fe7-97ca-528728296ac4",
   "metadata": {},
   "outputs": [],
   "source": [
    "from sklearn.preprocessing import normalize"
   ]
  },
  {
   "cell_type": "code",
   "execution_count": 18,
   "id": "3f1b35ad-a06c-4ab8-a381-026094a69822",
   "metadata": {},
   "outputs": [
    {
     "data": {
      "text/plain": [
       "array([[0.59721984, 0.23291574, 0.17916595, 0.57333105, 0.47777587],\n",
       "       [0.58478532, 0.23976198, 0.14619633, 0.52630679, 0.5496982 ],\n",
       "       [0.59463795, 0.20812328, 0.16649862, 0.49949587, 0.57085243],\n",
       "       [0.5886326 , 0.10595387, 0.15304448, 0.55331465, 0.55920097],\n",
       "       [0.59537523, 0.20838133, 0.16670506, 0.54179146, 0.52988395],\n",
       "       [0.60391274, 0.22344772, 0.16909557, 0.47709107, 0.57371711],\n",
       "       [0.60078755, 0.27636227, 0.21628352, 0.52268517, 0.49264579],\n",
       "       [0.58012214, 0.22044641, 0.17403664, 0.50470626, 0.57432092],\n",
       "       [0.56002419, 0.19040823, 0.15120653, 0.56002419, 0.56002419],\n",
       "       [0.59149856, 0.1242147 , 0.17153458, 0.54417868, 0.55600865],\n",
       "       [0.59069311, 0.11223169, 0.14767328, 0.56115846, 0.54934459],\n",
       "       [0.58833709, 0.31770203, 0.24121821, 0.48243641, 0.51185327],\n",
       "       [0.58756476, 0.21152331, 0.17039378, 0.49943004, 0.57581346],\n",
       "       [0.57256079, 0.20612188, 0.19467067, 0.53820714, 0.54965836],\n",
       "       [0.58206468, 0.14551617, 0.16879876, 0.55296145, 0.55296145],\n",
       "       [0.59877019, 0.10179093, 0.14969255, 0.58080709, 0.52093007],\n",
       "       [0.63941181, 0.17264119, 0.15345883, 0.49234709, 0.54350004],\n",
       "       [0.66299354, 0.12596877, 0.15248852, 0.51713496, 0.50387509],\n",
       "       [0.60581588, 0.21203556, 0.19991924, 0.44224559, 0.59369956],\n",
       "       [0.60893029, 0.23139351, 0.18267909, 0.52976935, 0.51150144],\n",
       "       [0.60833283, 0.20683316, 0.19466651, 0.43191631, 0.6022495 ],\n",
       "       [0.62350392, 0.1434059 , 0.21822637, 0.54244841, 0.49880314],\n",
       "       [0.61646236, 0.14795097, 0.17260946, 0.58563924, 0.47467602],\n",
       "       [0.6101873 , 0.14034308, 0.17695432, 0.53696483, 0.53696483],\n",
       "       [0.685414  , 0.1028121 , 0.21247834, 0.0685414 , 0.685414  ],\n",
       "       [0.59208925, 0.25459838, 0.20131034, 0.54472211, 0.49735497],\n",
       "       [0.60043006, 0.23416772, 0.26418923, 0.50436125, 0.51036555],\n",
       "       [0.59609407, 0.07749223, 0.20863293, 0.55436749, 0.53648467],\n",
       "       [0.56596621, 0.2094075 , 0.18110919, 0.5376679 , 0.56030655],\n",
       "       [0.61333536, 0.21466738, 0.18400061, 0.53360176, 0.50906835],\n",
       "       [0.63861596, 0.10217855, 0.17881247, 0.54920972, 0.49812045],\n",
       "       [0.63015338, 0.11972914, 0.17014141, 0.42220276, 0.61755031],\n",
       "       [0.62006636, 0.19842124, 0.17981925, 0.5456584 , 0.49605309],\n",
       "       [0.59890978, 0.23357481, 0.18566203, 0.56297519, 0.48511692],\n",
       "       [0.58232122, 0.13393388, 0.24457491, 0.576498  , 0.50079625],\n",
       "       [0.59271294, 0.16595962, 0.2015224 , 0.58678581, 0.48602461],\n",
       "       [0.58555677, 0.18737817, 0.16981146, 0.53871223, 0.55042337],\n",
       "       [0.64078871, 0.21146027, 0.16660506, 0.42932843, 0.57670984],\n",
       "       [0.57334134, 0.28667067, 0.17773582, 0.55040769, 0.50454038],\n",
       "       [0.60517212, 0.20575852, 0.2299654 , 0.55675835, 0.47808597],\n",
       "       [0.58821494, 0.22352168, 0.24116813, 0.56468634, 0.4764541 ],\n",
       "       [0.58671465, 0.18188154, 0.19361583, 0.57498036, 0.5045746 ],\n",
       "       [0.63800479, 0.13398101, 0.18502139, 0.52316393, 0.51678388],\n",
       "       [0.58829637, 0.23531855, 0.22355262, 0.53534969, 0.51181784],\n",
       "       [0.58656323, 0.25222219, 0.09385012, 0.51617564, 0.5631007 ],\n",
       "       [0.57695615, 0.17308685, 0.17308685, 0.5538779 , 0.54810834],\n",
       "       [0.61542249, 0.11693027, 0.16616407, 0.53541757, 0.54157179],\n",
       "       [0.60888514, 0.25573176, 0.2009321 , 0.49928581, 0.52364122],\n",
       "       [0.58805219, 0.19993775, 0.16465461, 0.57041063, 0.51160541],\n",
       "       [0.69069075, 0.24864867, 0.22792795, 0.26936939, 0.58018023],\n",
       "       [0.60358263, 0.25350471, 0.19314644, 0.48890193, 0.54322437]])"
      ]
     },
     "execution_count": 18,
     "metadata": {},
     "output_type": "execute_result"
    }
   ],
   "source": [
    "normalize(df2[['total','speeding','alcohol','not_distracted','no_previous']])"
   ]
  },
  {
   "cell_type": "markdown",
   "id": "e9274301-3a77-438b-91d6-df2fbe37470b",
   "metadata": {},
   "source": [
    "## QUES NO 3"
   ]
  },
  {
   "cell_type": "code",
   "execution_count": null,
   "id": "dd1a4c8d-fc1f-4a8e-be38-da99909b7e71",
   "metadata": {},
   "outputs": [],
   "source": [
    "Principal Component Analysis (PCA)\n",
    "\n",
    "As stated earlier, Principal Component Analysis is a technique of feature extraction that maps a higher dimensional\n",
    "feature space to a lower-dimensional feature space. While reducing the number of dimensions, PCA ensures that maximum\n",
    "information of the original dataset is retained in the dataset with the reduced no. of dimensions and the co-relation\n",
    "between the newly obtained Principal Components is minimum. The new features obtained after applying PCA are called\n",
    "Principal Components and are denoted as PCi (i=1,2,3…n). Here, (Principal Component-1) PC1 captures the maximum\n",
    "information of the original dataset, followed by PC2, then PC3 and so on.\n",
    "\n"
   ]
  },
  {
   "cell_type": "code",
   "execution_count": null,
   "id": "b56545ef-7590-4ffb-800d-0289f621552c",
   "metadata": {},
   "outputs": [],
   "source": [
    "Step-1: Import necessary libraries\n",
    "\n",
    "All the necessary libraries required to load the dataset, pre-process it and then apply PCA on it are mentioned below:\n",
    "\n"
   ]
  },
  {
   "cell_type": "code",
   "execution_count": 20,
   "id": "863a2ce4-a774-4c86-91ef-d561ef99fb7a",
   "metadata": {},
   "outputs": [],
   "source": [
    "import pandas as pd \n",
    "import seaborn as sns\n",
    "from sklearn.decomposition import PCA\n",
    "from sklearn.preprocessing import StandardScaler"
   ]
  },
  {
   "cell_type": "code",
   "execution_count": null,
   "id": "6fbb8237-08a9-4f27-9a7f-07e4d11e59d6",
   "metadata": {},
   "outputs": [],
   "source": [
    "Step-2: Load the dataset\n",
    "\n",
    "After importing all the necessary libraries, we need to load the dataset. Now, the iris dataset is already present in sklearn.\n",
    "First, we will load it and then convert it into a pandas data frame for ease of use."
   ]
  },
  {
   "cell_type": "code",
   "execution_count": 32,
   "id": "c0ad88bc-0c76-41a2-b4d3-03b6ddcf4383",
   "metadata": {},
   "outputs": [],
   "source": [
    "df = sns.load_dataset('iris')\n",
    "\n",
    "data_iris=pd.DataFrame(df,columns=['sepal_length','sepal_width','petal_length','petal_width'])\n"
   ]
  },
  {
   "cell_type": "code",
   "execution_count": 33,
   "id": "b651e389-bd5a-49ac-a404-8d18dd9f30cb",
   "metadata": {},
   "outputs": [
    {
     "data": {
      "text/html": [
       "<div>\n",
       "<style scoped>\n",
       "    .dataframe tbody tr th:only-of-type {\n",
       "        vertical-align: middle;\n",
       "    }\n",
       "\n",
       "    .dataframe tbody tr th {\n",
       "        vertical-align: top;\n",
       "    }\n",
       "\n",
       "    .dataframe thead th {\n",
       "        text-align: right;\n",
       "    }\n",
       "</style>\n",
       "<table border=\"1\" class=\"dataframe\">\n",
       "  <thead>\n",
       "    <tr style=\"text-align: right;\">\n",
       "      <th></th>\n",
       "      <th>sepal_length</th>\n",
       "      <th>sepal_width</th>\n",
       "      <th>petal_length</th>\n",
       "      <th>petal_width</th>\n",
       "    </tr>\n",
       "  </thead>\n",
       "  <tbody>\n",
       "    <tr>\n",
       "      <th>0</th>\n",
       "      <td>5.1</td>\n",
       "      <td>3.5</td>\n",
       "      <td>1.4</td>\n",
       "      <td>0.2</td>\n",
       "    </tr>\n",
       "    <tr>\n",
       "      <th>1</th>\n",
       "      <td>4.9</td>\n",
       "      <td>3.0</td>\n",
       "      <td>1.4</td>\n",
       "      <td>0.2</td>\n",
       "    </tr>\n",
       "    <tr>\n",
       "      <th>2</th>\n",
       "      <td>4.7</td>\n",
       "      <td>3.2</td>\n",
       "      <td>1.3</td>\n",
       "      <td>0.2</td>\n",
       "    </tr>\n",
       "    <tr>\n",
       "      <th>3</th>\n",
       "      <td>4.6</td>\n",
       "      <td>3.1</td>\n",
       "      <td>1.5</td>\n",
       "      <td>0.2</td>\n",
       "    </tr>\n",
       "    <tr>\n",
       "      <th>4</th>\n",
       "      <td>5.0</td>\n",
       "      <td>3.6</td>\n",
       "      <td>1.4</td>\n",
       "      <td>0.2</td>\n",
       "    </tr>\n",
       "  </tbody>\n",
       "</table>\n",
       "</div>"
      ],
      "text/plain": [
       "   sepal_length  sepal_width  petal_length  petal_width\n",
       "0           5.1          3.5           1.4          0.2\n",
       "1           4.9          3.0           1.4          0.2\n",
       "2           4.7          3.2           1.3          0.2\n",
       "3           4.6          3.1           1.5          0.2\n",
       "4           5.0          3.6           1.4          0.2"
      ]
     },
     "execution_count": 33,
     "metadata": {},
     "output_type": "execute_result"
    }
   ],
   "source": [
    "data_iris.head()"
   ]
  },
  {
   "cell_type": "code",
   "execution_count": null,
   "id": "a90bed09-05a7-40f7-ab39-c13d661f633a",
   "metadata": {},
   "outputs": [],
   "source": [
    "Before applying PCA or any other Machine Learning technique it is always considered good practice to standardize the data.\n",
    "For this, Standard Scalar is the most commonly used scalar. Standard Scalar is already present in sklearn"
   ]
  },
  {
   "cell_type": "code",
   "execution_count": 35,
   "id": "11f1eb04-2d74-463c-a352-226fde48af28",
   "metadata": {},
   "outputs": [],
   "source": [
    "scaler = StandardScaler()"
   ]
  },
  {
   "cell_type": "code",
   "execution_count": 38,
   "id": "79a0976b-5ba8-4c0b-a468-305a97bfbb09",
   "metadata": {},
   "outputs": [],
   "source": [
    "scaled_data = pd.DataFrame(scaler.fit_transform(data_iris))"
   ]
  },
  {
   "cell_type": "code",
   "execution_count": 39,
   "id": "c127ba52-93c6-4664-b3c5-49d4d7975247",
   "metadata": {},
   "outputs": [
    {
     "data": {
      "text/html": [
       "<div>\n",
       "<style scoped>\n",
       "    .dataframe tbody tr th:only-of-type {\n",
       "        vertical-align: middle;\n",
       "    }\n",
       "\n",
       "    .dataframe tbody tr th {\n",
       "        vertical-align: top;\n",
       "    }\n",
       "\n",
       "    .dataframe thead th {\n",
       "        text-align: right;\n",
       "    }\n",
       "</style>\n",
       "<table border=\"1\" class=\"dataframe\">\n",
       "  <thead>\n",
       "    <tr style=\"text-align: right;\">\n",
       "      <th></th>\n",
       "      <th>0</th>\n",
       "      <th>1</th>\n",
       "      <th>2</th>\n",
       "      <th>3</th>\n",
       "    </tr>\n",
       "  </thead>\n",
       "  <tbody>\n",
       "    <tr>\n",
       "      <th>0</th>\n",
       "      <td>-0.900681</td>\n",
       "      <td>1.019004</td>\n",
       "      <td>-1.340227</td>\n",
       "      <td>-1.315444</td>\n",
       "    </tr>\n",
       "    <tr>\n",
       "      <th>1</th>\n",
       "      <td>-1.143017</td>\n",
       "      <td>-0.131979</td>\n",
       "      <td>-1.340227</td>\n",
       "      <td>-1.315444</td>\n",
       "    </tr>\n",
       "    <tr>\n",
       "      <th>2</th>\n",
       "      <td>-1.385353</td>\n",
       "      <td>0.328414</td>\n",
       "      <td>-1.397064</td>\n",
       "      <td>-1.315444</td>\n",
       "    </tr>\n",
       "    <tr>\n",
       "      <th>3</th>\n",
       "      <td>-1.506521</td>\n",
       "      <td>0.098217</td>\n",
       "      <td>-1.283389</td>\n",
       "      <td>-1.315444</td>\n",
       "    </tr>\n",
       "    <tr>\n",
       "      <th>4</th>\n",
       "      <td>-1.021849</td>\n",
       "      <td>1.249201</td>\n",
       "      <td>-1.340227</td>\n",
       "      <td>-1.315444</td>\n",
       "    </tr>\n",
       "  </tbody>\n",
       "</table>\n",
       "</div>"
      ],
      "text/plain": [
       "          0         1         2         3\n",
       "0 -0.900681  1.019004 -1.340227 -1.315444\n",
       "1 -1.143017 -0.131979 -1.340227 -1.315444\n",
       "2 -1.385353  0.328414 -1.397064 -1.315444\n",
       "3 -1.506521  0.098217 -1.283389 -1.315444\n",
       "4 -1.021849  1.249201 -1.340227 -1.315444"
      ]
     },
     "execution_count": 39,
     "metadata": {},
     "output_type": "execute_result"
    }
   ],
   "source": [
    "scaled_data.head()"
   ]
  },
  {
   "cell_type": "code",
   "execution_count": null,
   "id": "4618f6f5-1b4b-492d-9679-38a8b202d8c0",
   "metadata": {},
   "outputs": [],
   "source": [
    "Step-3: Check the Co-relation between features without PCA (Optional)\n",
    "\n",
    "Now, we will check the co-relation between our scaled dataset using a heat map.\n",
    "The correlation between various features is given by the corr() function and then the\n",
    "  heat map is plotted by the heatmap() function"
   ]
  },
  {
   "cell_type": "code",
   "execution_count": 41,
   "id": "5588d165-51cd-48ed-9a48-8761ce73ee90",
   "metadata": {},
   "outputs": [
    {
     "data": {
      "text/plain": [
       "<AxesSubplot: >"
      ]
     },
     "execution_count": 41,
     "metadata": {},
     "output_type": "execute_result"
    },
    {
     "data": {
      "image/png": "[encoded data removed]",
      "text/plain": [
       "<Figure size 640x480 with 2 Axes>"
      ]
     },
     "metadata": {},
     "output_type": "display_data"
    }
   ],
   "source": [
    "sns.heatmap(scaled_data.corr())"
   ]
  },
  {
   "cell_type": "code",
   "execution_count": 44,
   "id": "26745e31-e277-4867-9eee-2f28b6009b3f",
   "metadata": {},
   "outputs": [],
   "source": [
    "pca = PCA(n_components = 3)\n",
    "pca_data = pca.fit_transform(scaled_data)\n",
    "pca_data = pd.DataFrame(pca_data,columns=['PC1','PC2','PC3'])"
   ]
  },
  {
   "cell_type": "code",
   "execution_count": 45,
   "id": "4aff7e4c-bafe-4b0c-bc1e-18c5a599859f",
   "metadata": {},
   "outputs": [
    {
     "data": {
      "text/html": [
       "<div>\n",
       "<style scoped>\n",
       "    .dataframe tbody tr th:only-of-type {\n",
       "        vertical-align: middle;\n",
       "    }\n",
       "\n",
       "    .dataframe tbody tr th {\n",
       "        vertical-align: top;\n",
       "    }\n",
       "\n",
       "    .dataframe thead th {\n",
       "        text-align: right;\n",
       "    }\n",
       "</style>\n",
       "<table border=\"1\" class=\"dataframe\">\n",
       "  <thead>\n",
       "    <tr style=\"text-align: right;\">\n",
       "      <th></th>\n",
       "      <th>PC1</th>\n",
       "      <th>PC2</th>\n",
       "      <th>PC3</th>\n",
       "    </tr>\n",
       "  </thead>\n",
       "  <tbody>\n",
       "    <tr>\n",
       "      <th>0</th>\n",
       "      <td>-2.264703</td>\n",
       "      <td>0.480027</td>\n",
       "      <td>-0.127706</td>\n",
       "    </tr>\n",
       "    <tr>\n",
       "      <th>1</th>\n",
       "      <td>-2.080961</td>\n",
       "      <td>-0.674134</td>\n",
       "      <td>-0.234609</td>\n",
       "    </tr>\n",
       "    <tr>\n",
       "      <th>2</th>\n",
       "      <td>-2.364229</td>\n",
       "      <td>-0.341908</td>\n",
       "      <td>0.044201</td>\n",
       "    </tr>\n",
       "    <tr>\n",
       "      <th>3</th>\n",
       "      <td>-2.299384</td>\n",
       "      <td>-0.597395</td>\n",
       "      <td>0.091290</td>\n",
       "    </tr>\n",
       "    <tr>\n",
       "      <th>4</th>\n",
       "      <td>-2.389842</td>\n",
       "      <td>0.646835</td>\n",
       "      <td>0.015738</td>\n",
       "    </tr>\n",
       "    <tr>\n",
       "      <th>...</th>\n",
       "      <td>...</td>\n",
       "      <td>...</td>\n",
       "      <td>...</td>\n",
       "    </tr>\n",
       "    <tr>\n",
       "      <th>145</th>\n",
       "      <td>1.870503</td>\n",
       "      <td>0.386966</td>\n",
       "      <td>0.256274</td>\n",
       "    </tr>\n",
       "    <tr>\n",
       "      <th>146</th>\n",
       "      <td>1.564580</td>\n",
       "      <td>-0.896687</td>\n",
       "      <td>-0.026371</td>\n",
       "    </tr>\n",
       "    <tr>\n",
       "      <th>147</th>\n",
       "      <td>1.521170</td>\n",
       "      <td>0.269069</td>\n",
       "      <td>0.180178</td>\n",
       "    </tr>\n",
       "    <tr>\n",
       "      <th>148</th>\n",
       "      <td>1.372788</td>\n",
       "      <td>1.011254</td>\n",
       "      <td>0.933395</td>\n",
       "    </tr>\n",
       "    <tr>\n",
       "      <th>149</th>\n",
       "      <td>0.960656</td>\n",
       "      <td>-0.024332</td>\n",
       "      <td>0.528249</td>\n",
       "    </tr>\n",
       "  </tbody>\n",
       "</table>\n",
       "<p>150 rows × 3 columns</p>\n",
       "</div>"
      ],
      "text/plain": [
       "          PC1       PC2       PC3\n",
       "0   -2.264703  0.480027 -0.127706\n",
       "1   -2.080961 -0.674134 -0.234609\n",
       "2   -2.364229 -0.341908  0.044201\n",
       "3   -2.299384 -0.597395  0.091290\n",
       "4   -2.389842  0.646835  0.015738\n",
       "..        ...       ...       ...\n",
       "145  1.870503  0.386966  0.256274\n",
       "146  1.564580 -0.896687 -0.026371\n",
       "147  1.521170  0.269069  0.180178\n",
       "148  1.372788  1.011254  0.933395\n",
       "149  0.960656 -0.024332  0.528249\n",
       "\n",
       "[150 rows x 3 columns]"
      ]
     },
     "execution_count": 45,
     "metadata": {},
     "output_type": "execute_result"
    }
   ],
   "source": [
    "pca_data"
   ]
  },
  {
   "cell_type": "code",
   "execution_count": null,
   "id": "74e3be3f-f81b-40f6-bfcf-106071f9cd7e",
   "metadata": {},
   "outputs": [],
   "source": [
    "Step-5: Checking Co-relation between features after PCA\n",
    "\n",
    "Now that we have applied PCA and obtained the reduced feature set, we will check the co-relation between various Principal\n",
    "Components, again by using a heatmap.\n",
    "\n",
    "\n"
   ]
  },
  {
   "cell_type": "code",
   "execution_count": 46,
   "id": "fd2b68b9-2410-45e4-a14d-dd20df22decc",
   "metadata": {},
   "outputs": [
    {
     "data": {
      "text/plain": [
       "<AxesSubplot: >"
      ]
     },
     "execution_count": 46,
     "metadata": {},
     "output_type": "execute_result"
    },
    {
     "data": {
      "image/png": "[encoded data removed]",
      "text/plain": [
       "<Figure size 640x480 with 2 Axes>"
      ]
     },
     "metadata": {},
     "output_type": "display_data"
    }
   ],
   "source": [
    "sns.heatmap(pca_data.corr())"
   ]
  },
  {
   "cell_type": "code",
   "execution_count": null,
   "id": "af916ddc-aa50-4b34-b57d-83f751f302dd",
   "metadata": {},
   "outputs": [],
   "source": [
    "APPLICATION OF PCA"
   ]
  },
  {
   "cell_type": "code",
   "execution_count": null,
   "id": "e8aea8f9-fcd7-4baf-8152-5da35c987d7f",
   "metadata": {},
   "outputs": [],
   "source": [
    "Some of the applications of Principal Component Analysis (PCA) are:\n",
    "\n",
    "Spike-triggered covariance analysis in Neuroscience\n",
    "Quantitative Finance\n",
    "Image Compression\n",
    "Facial Recognition"
   ]
  },
  {
   "cell_type": "markdown",
   "id": "0fc95bf2-17d8-4369-b8df-498d384b1491",
   "metadata": {},
   "source": [
    "## QUES NO 4"
   ]
  },
  {
   "cell_type": "code",
   "execution_count": null,
   "id": "5a1b259d-26b3-4e91-bce3-da2364b16c16",
   "metadata": {},
   "outputs": [],
   "source": [
    "Principal Component Analysis(PCA) is feature extraction technique meant to reduce the dimensions of our dataset\n",
    "The main idea of principal component analysis (PCA) is to reduce the dimensionality of a data set consisting of many\n",
    "variables correlated with each other,while retaining the variation present in the dataset, up to the maximum extent. \n",
    "The same is done by transforming the variables to a new set of variables, which are known as the principal components\n",
    "(or simply, the PCs).\n",
    "\n",
    "Suppose we take a dataset with 2 ‘Feature 1’ & ‘ Feature 2’ features and plot them.Say i need to convert this to 1\n",
    "dimension feature.How can we do it?\n",
    "\n",
    "Firstly we can fit a line through these datapoints and project those datapoints on our line.This we can call as First \n",
    "Component or PC1."
   ]
  },
  {
   "cell_type": "code",
   "execution_count": 47,
   "id": "cae2355d-e4ee-4cb1-b1b9-762ae9e910e3",
   "metadata": {},
   "outputs": [],
   "source": [
    "## EXAMPLE\n",
    "\n",
    "import pandas as pd \n",
    "import seaborn as sns\n",
    "from sklearn.decomposition import PCA\n",
    "from sklearn.preprocessing import StandardScaler"
   ]
  },
  {
   "cell_type": "code",
   "execution_count": 75,
   "id": "3dca21e6-0bfa-4103-999e-6b8751f010e4",
   "metadata": {},
   "outputs": [],
   "source": [
    "df = sns.load_dataset('car_crashes')"
   ]
  },
  {
   "cell_type": "code",
   "execution_count": 76,
   "id": "f988dd45-8200-4bed-bf69-292c3b64b0b6",
   "metadata": {},
   "outputs": [
    {
     "data": {
      "text/html": [
       "<div>\n",
       "<style scoped>\n",
       "    .dataframe tbody tr th:only-of-type {\n",
       "        vertical-align: middle;\n",
       "    }\n",
       "\n",
       "    .dataframe tbody tr th {\n",
       "        vertical-align: top;\n",
       "    }\n",
       "\n",
       "    .dataframe thead th {\n",
       "        text-align: right;\n",
       "    }\n",
       "</style>\n",
       "<table border=\"1\" class=\"dataframe\">\n",
       "  <thead>\n",
       "    <tr style=\"text-align: right;\">\n",
       "      <th></th>\n",
       "      <th>total</th>\n",
       "      <th>speeding</th>\n",
       "      <th>alcohol</th>\n",
       "      <th>not_distracted</th>\n",
       "      <th>no_previous</th>\n",
       "      <th>ins_premium</th>\n",
       "      <th>ins_losses</th>\n",
       "      <th>abbrev</th>\n",
       "    </tr>\n",
       "  </thead>\n",
       "  <tbody>\n",
       "    <tr>\n",
       "      <th>0</th>\n",
       "      <td>18.8</td>\n",
       "      <td>7.332</td>\n",
       "      <td>5.640</td>\n",
       "      <td>18.048</td>\n",
       "      <td>15.040</td>\n",
       "      <td>784.55</td>\n",
       "      <td>145.08</td>\n",
       "      <td>AL</td>\n",
       "    </tr>\n",
       "    <tr>\n",
       "      <th>1</th>\n",
       "      <td>18.1</td>\n",
       "      <td>7.421</td>\n",
       "      <td>4.525</td>\n",
       "      <td>16.290</td>\n",
       "      <td>17.014</td>\n",
       "      <td>1053.48</td>\n",
       "      <td>133.93</td>\n",
       "      <td>AK</td>\n",
       "    </tr>\n",
       "    <tr>\n",
       "      <th>2</th>\n",
       "      <td>18.6</td>\n",
       "      <td>6.510</td>\n",
       "      <td>5.208</td>\n",
       "      <td>15.624</td>\n",
       "      <td>17.856</td>\n",
       "      <td>899.47</td>\n",
       "      <td>110.35</td>\n",
       "      <td>AZ</td>\n",
       "    </tr>\n",
       "    <tr>\n",
       "      <th>3</th>\n",
       "      <td>22.4</td>\n",
       "      <td>4.032</td>\n",
       "      <td>5.824</td>\n",
       "      <td>21.056</td>\n",
       "      <td>21.280</td>\n",
       "      <td>827.34</td>\n",
       "      <td>142.39</td>\n",
       "      <td>AR</td>\n",
       "    </tr>\n",
       "    <tr>\n",
       "      <th>4</th>\n",
       "      <td>12.0</td>\n",
       "      <td>4.200</td>\n",
       "      <td>3.360</td>\n",
       "      <td>10.920</td>\n",
       "      <td>10.680</td>\n",
       "      <td>878.41</td>\n",
       "      <td>165.63</td>\n",
       "      <td>CA</td>\n",
       "    </tr>\n",
       "  </tbody>\n",
       "</table>\n",
       "</div>"
      ],
      "text/plain": [
       "   total  speeding  alcohol  not_distracted  no_previous  ins_premium  \\\n",
       "0   18.8     7.332    5.640          18.048       15.040       784.55   \n",
       "1   18.1     7.421    4.525          16.290       17.014      1053.48   \n",
       "2   18.6     6.510    5.208          15.624       17.856       899.47   \n",
       "3   22.4     4.032    5.824          21.056       21.280       827.34   \n",
       "4   12.0     4.200    3.360          10.920       10.680       878.41   \n",
       "\n",
       "   ins_losses abbrev  \n",
       "0      145.08     AL  \n",
       "1      133.93     AK  \n",
       "2      110.35     AZ  \n",
       "3      142.39     AR  \n",
       "4      165.63     CA  "
      ]
     },
     "execution_count": 76,
     "metadata": {},
     "output_type": "execute_result"
    }
   ],
   "source": [
    "df.head()"
   ]
  },
  {
   "cell_type": "code",
   "execution_count": 77,
   "id": "e1c54d06-9072-4ead-847f-ad263ea533d7",
   "metadata": {},
   "outputs": [],
   "source": [
    "car_data=pd.DataFrame(df,columns=['not_distracted','no_previous','ins_premium','ins_losses'])"
   ]
  },
  {
   "cell_type": "code",
   "execution_count": 78,
   "id": "c2c69463-7019-41ab-91e2-762b506c7328",
   "metadata": {},
   "outputs": [
    {
     "data": {
      "text/html": [
       "<div>\n",
       "<style scoped>\n",
       "    .dataframe tbody tr th:only-of-type {\n",
       "        vertical-align: middle;\n",
       "    }\n",
       "\n",
       "    .dataframe tbody tr th {\n",
       "        vertical-align: top;\n",
       "    }\n",
       "\n",
       "    .dataframe thead th {\n",
       "        text-align: right;\n",
       "    }\n",
       "</style>\n",
       "<table border=\"1\" class=\"dataframe\">\n",
       "  <thead>\n",
       "    <tr style=\"text-align: right;\">\n",
       "      <th></th>\n",
       "      <th>not_distracted</th>\n",
       "      <th>no_previous</th>\n",
       "      <th>ins_premium</th>\n",
       "      <th>ins_losses</th>\n",
       "    </tr>\n",
       "  </thead>\n",
       "  <tbody>\n",
       "    <tr>\n",
       "      <th>0</th>\n",
       "      <td>18.048</td>\n",
       "      <td>15.040</td>\n",
       "      <td>784.55</td>\n",
       "      <td>145.08</td>\n",
       "    </tr>\n",
       "    <tr>\n",
       "      <th>1</th>\n",
       "      <td>16.290</td>\n",
       "      <td>17.014</td>\n",
       "      <td>1053.48</td>\n",
       "      <td>133.93</td>\n",
       "    </tr>\n",
       "    <tr>\n",
       "      <th>2</th>\n",
       "      <td>15.624</td>\n",
       "      <td>17.856</td>\n",
       "      <td>899.47</td>\n",
       "      <td>110.35</td>\n",
       "    </tr>\n",
       "    <tr>\n",
       "      <th>3</th>\n",
       "      <td>21.056</td>\n",
       "      <td>21.280</td>\n",
       "      <td>827.34</td>\n",
       "      <td>142.39</td>\n",
       "    </tr>\n",
       "    <tr>\n",
       "      <th>4</th>\n",
       "      <td>10.920</td>\n",
       "      <td>10.680</td>\n",
       "      <td>878.41</td>\n",
       "      <td>165.63</td>\n",
       "    </tr>\n",
       "  </tbody>\n",
       "</table>\n",
       "</div>"
      ],
      "text/plain": [
       "   not_distracted  no_previous  ins_premium  ins_losses\n",
       "0          18.048       15.040       784.55      145.08\n",
       "1          16.290       17.014      1053.48      133.93\n",
       "2          15.624       17.856       899.47      110.35\n",
       "3          21.056       21.280       827.34      142.39\n",
       "4          10.920       10.680       878.41      165.63"
      ]
     },
     "execution_count": 78,
     "metadata": {},
     "output_type": "execute_result"
    }
   ],
   "source": [
    "car_data.head()"
   ]
  },
  {
   "cell_type": "code",
   "execution_count": 66,
   "id": "84998488-831b-4b93-9022-c97df0fcf846",
   "metadata": {},
   "outputs": [],
   "source": [
    "scaler = StandardScaler()"
   ]
  },
  {
   "cell_type": "code",
   "execution_count": 79,
   "id": "f1fafe12-16cf-4b10-9689-e604b36eb60d",
   "metadata": {},
   "outputs": [],
   "source": [
    "scaled_data =  pd.DataFrame(scaler.fit_transform(car_data))"
   ]
  },
  {
   "cell_type": "code",
   "execution_count": 80,
   "id": "c8ec0d99-368e-4b3a-ac76-607333285d55",
   "metadata": {},
   "outputs": [
    {
     "data": {
      "text/html": [
       "<div>\n",
       "<style scoped>\n",
       "    .dataframe tbody tr th:only-of-type {\n",
       "        vertical-align: middle;\n",
       "    }\n",
       "\n",
       "    .dataframe tbody tr th {\n",
       "        vertical-align: top;\n",
       "    }\n",
       "\n",
       "    .dataframe thead th {\n",
       "        text-align: right;\n",
       "    }\n",
       "</style>\n",
       "<table border=\"1\" class=\"dataframe\">\n",
       "  <thead>\n",
       "    <tr style=\"text-align: right;\">\n",
       "      <th></th>\n",
       "      <th>0</th>\n",
       "      <th>1</th>\n",
       "      <th>2</th>\n",
       "      <th>3</th>\n",
       "    </tr>\n",
       "  </thead>\n",
       "  <tbody>\n",
       "    <tr>\n",
       "      <th>0</th>\n",
       "      <td>1.002301</td>\n",
       "      <td>0.277692</td>\n",
       "      <td>-0.580083</td>\n",
       "      <td>0.430514</td>\n",
       "    </tr>\n",
       "    <tr>\n",
       "      <th>1</th>\n",
       "      <td>0.608532</td>\n",
       "      <td>0.807258</td>\n",
       "      <td>0.943258</td>\n",
       "      <td>-0.022900</td>\n",
       "    </tr>\n",
       "    <tr>\n",
       "      <th>2</th>\n",
       "      <td>0.459357</td>\n",
       "      <td>1.033141</td>\n",
       "      <td>0.070876</td>\n",
       "      <td>-0.981778</td>\n",
       "    </tr>\n",
       "    <tr>\n",
       "      <th>3</th>\n",
       "      <td>1.676052</td>\n",
       "      <td>1.951700</td>\n",
       "      <td>-0.337701</td>\n",
       "      <td>0.321125</td>\n",
       "    </tr>\n",
       "    <tr>\n",
       "      <th>4</th>\n",
       "      <td>-0.594276</td>\n",
       "      <td>-0.891968</td>\n",
       "      <td>-0.048418</td>\n",
       "      <td>1.266178</td>\n",
       "    </tr>\n",
       "  </tbody>\n",
       "</table>\n",
       "</div>"
      ],
      "text/plain": [
       "          0         1         2         3\n",
       "0  1.002301  0.277692 -0.580083  0.430514\n",
       "1  0.608532  0.807258  0.943258 -0.022900\n",
       "2  0.459357  1.033141  0.070876 -0.981778\n",
       "3  1.676052  1.951700 -0.337701  0.321125\n",
       "4 -0.594276 -0.891968 -0.048418  1.266178"
      ]
     },
     "execution_count": 80,
     "metadata": {},
     "output_type": "execute_result"
    }
   ],
   "source": [
    "scaled_data.head()"
   ]
  },
  {
   "cell_type": "code",
   "execution_count": 81,
   "id": "2b003e88-1fb8-47e4-bfb8-198172f0acc8",
   "metadata": {},
   "outputs": [
    {
     "data": {
      "text/plain": [
       "<AxesSubplot: >"
      ]
     },
     "execution_count": 81,
     "metadata": {},
     "output_type": "execute_result"
    },
    {
     "data": {
      "image/png": "[encoded data removed]",
      "text/plain": [
       "<Figure size 640x480 with 2 Axes>"
      ]
     },
     "metadata": {},
     "output_type": "display_data"
    }
   ],
   "source": [
    "sns.heatmap(scaled_data.corr())"
   ]
  },
  {
   "cell_type": "code",
   "execution_count": 84,
   "id": "480e2e92-1374-47ad-a042-a0c6f538ae12",
   "metadata": {},
   "outputs": [],
   "source": [
    "pca = PCA(n_components = 3)\n",
    "pca_data = pca.fit_transform(scaled_data)\n",
    "pca_data = pd.DataFrame(pca_data,columns=['PC1','PC2','PC3'])"
   ]
  },
  {
   "cell_type": "code",
   "execution_count": 86,
   "id": "e191dd22-3335-4dae-a75a-e3c1859ce17e",
   "metadata": {},
   "outputs": [
    {
     "data": {
      "text/html": [
       "<div>\n",
       "<style scoped>\n",
       "    .dataframe tbody tr th:only-of-type {\n",
       "        vertical-align: middle;\n",
       "    }\n",
       "\n",
       "    .dataframe tbody tr th {\n",
       "        vertical-align: top;\n",
       "    }\n",
       "\n",
       "    .dataframe thead th {\n",
       "        text-align: right;\n",
       "    }\n",
       "</style>\n",
       "<table border=\"1\" class=\"dataframe\">\n",
       "  <thead>\n",
       "    <tr style=\"text-align: right;\">\n",
       "      <th></th>\n",
       "      <th>PC1</th>\n",
       "      <th>PC2</th>\n",
       "      <th>PC3</th>\n",
       "    </tr>\n",
       "  </thead>\n",
       "  <tbody>\n",
       "    <tr>\n",
       "      <th>0</th>\n",
       "      <td>-0.846161</td>\n",
       "      <td>0.475575</td>\n",
       "      <td>-0.510517</td>\n",
       "    </tr>\n",
       "    <tr>\n",
       "      <th>1</th>\n",
       "      <td>-0.378097</td>\n",
       "      <td>1.069299</td>\n",
       "      <td>0.742949</td>\n",
       "    </tr>\n",
       "    <tr>\n",
       "      <th>2</th>\n",
       "      <td>-1.174896</td>\n",
       "      <td>0.058272</td>\n",
       "      <td>0.724215</td>\n",
       "    </tr>\n",
       "    <tr>\n",
       "      <th>3</th>\n",
       "      <td>-2.102999</td>\n",
       "      <td>1.526149</td>\n",
       "      <td>-0.259092</td>\n",
       "    </tr>\n",
       "    <tr>\n",
       "      <th>4</th>\n",
       "      <td>1.289551</td>\n",
       "      <td>0.138044</td>\n",
       "      <td>-0.939450</td>\n",
       "    </tr>\n",
       "  </tbody>\n",
       "</table>\n",
       "</div>"
      ],
      "text/plain": [
       "        PC1       PC2       PC3\n",
       "0 -0.846161  0.475575 -0.510517\n",
       "1 -0.378097  1.069299  0.742949\n",
       "2 -1.174896  0.058272  0.724215\n",
       "3 -2.102999  1.526149 -0.259092\n",
       "4  1.289551  0.138044 -0.939450"
      ]
     },
     "execution_count": 86,
     "metadata": {},
     "output_type": "execute_result"
    }
   ],
   "source": [
    "pca_data.head()"
   ]
  },
  {
   "cell_type": "markdown",
   "id": "1fdae9aa-c842-4a25-aa9d-1c1d6acace30",
   "metadata": {},
   "source": [
    "## QUES NO 5"
   ]
  },
  {
   "cell_type": "code",
   "execution_count": 91,
   "id": "839a9b50-674f-4b90-95c4-96206ec70c88",
   "metadata": {},
   "outputs": [],
   "source": [
    "import pandas as pd\n",
    "df = pd.DataFrame({\"price\":[300,400,500,600],\"rating\": [3.4,4.5,4.6,4.9],\"delivery_time in min\": [30,40,50,45]})"
   ]
  },
  {
   "cell_type": "code",
   "execution_count": 92,
   "id": "68c71d9a-ae7a-4566-a6ad-84b56d59cceb",
   "metadata": {},
   "outputs": [
    {
     "data": {
      "text/html": [
       "<div>\n",
       "<style scoped>\n",
       "    .dataframe tbody tr th:only-of-type {\n",
       "        vertical-align: middle;\n",
       "    }\n",
       "\n",
       "    .dataframe tbody tr th {\n",
       "        vertical-align: top;\n",
       "    }\n",
       "\n",
       "    .dataframe thead th {\n",
       "        text-align: right;\n",
       "    }\n",
       "</style>\n",
       "<table border=\"1\" class=\"dataframe\">\n",
       "  <thead>\n",
       "    <tr style=\"text-align: right;\">\n",
       "      <th></th>\n",
       "      <th>price</th>\n",
       "      <th>rating</th>\n",
       "      <th>delivery_time in min</th>\n",
       "    </tr>\n",
       "  </thead>\n",
       "  <tbody>\n",
       "    <tr>\n",
       "      <th>0</th>\n",
       "      <td>300</td>\n",
       "      <td>3.4</td>\n",
       "      <td>30</td>\n",
       "    </tr>\n",
       "    <tr>\n",
       "      <th>1</th>\n",
       "      <td>400</td>\n",
       "      <td>4.5</td>\n",
       "      <td>40</td>\n",
       "    </tr>\n",
       "    <tr>\n",
       "      <th>2</th>\n",
       "      <td>500</td>\n",
       "      <td>4.6</td>\n",
       "      <td>50</td>\n",
       "    </tr>\n",
       "    <tr>\n",
       "      <th>3</th>\n",
       "      <td>600</td>\n",
       "      <td>4.9</td>\n",
       "      <td>45</td>\n",
       "    </tr>\n",
       "  </tbody>\n",
       "</table>\n",
       "</div>"
      ],
      "text/plain": [
       "   price  rating  delivery_time in min\n",
       "0    300     3.4                    30\n",
       "1    400     4.5                    40\n",
       "2    500     4.6                    50\n",
       "3    600     4.9                    45"
      ]
     },
     "execution_count": 92,
     "metadata": {},
     "output_type": "execute_result"
    }
   ],
   "source": [
    "df"
   ]
  },
  {
   "cell_type": "code",
   "execution_count": 93,
   "id": "0dd7317b-f071-4627-bba6-f98d06bc5799",
   "metadata": {},
   "outputs": [],
   "source": [
    "from sklearn.preprocessing import MinMaxScaler"
   ]
  },
  {
   "cell_type": "code",
   "execution_count": 94,
   "id": "46d03405-a6bd-427d-98c4-d4f86af66214",
   "metadata": {},
   "outputs": [],
   "source": [
    "min_max = MinMaxScaler()"
   ]
  },
  {
   "cell_type": "code",
   "execution_count": 96,
   "id": "d058365e-aefe-4bdb-86a6-c688de0e15d8",
   "metadata": {},
   "outputs": [
    {
     "data": {
      "text/plain": [
       "array([[0.        , 0.        , 0.        ],\n",
       "       [0.33333333, 0.73333333, 0.5       ],\n",
       "       [0.66666667, 0.8       , 1.        ],\n",
       "       [1.        , 1.        , 0.75      ]])"
      ]
     },
     "execution_count": 96,
     "metadata": {},
     "output_type": "execute_result"
    }
   ],
   "source": [
    "min_max.fit_transform(df[['price','rating',\t'delivery_time in min']])"
   ]
  },
  {
   "cell_type": "markdown",
   "id": "9d259fbc-4f08-428b-9297-6a928ab11cfe",
   "metadata": {},
   "source": [
    "## QUES NO 6"
   ]
  },
  {
   "cell_type": "code",
   "execution_count": null,
   "id": "f51abdfd-31d2-405f-a7ed-b9e19b0482a9",
   "metadata": {},
   "outputs": [],
   "source": [
    "Step-1:\n",
    "    \n",
    "    Import necessary libraries\n",
    "\n",
    "All the necessary libraries required to load the dataset, pre-process it and then apply PCA on it are mentioned below:\n",
    "\n",
    "import pandas as pd \n",
    "import seaborn as sns\n",
    "from sklearn.decomposition import PCA\n",
    "from sklearn.preprocessing import StandardScaler"
   ]
  },
  {
   "cell_type": "code",
   "execution_count": null,
   "id": "8e052d85-6e42-4a95-952f-e7ef473c5d1c",
   "metadata": {},
   "outputs": [],
   "source": [
    "Step-2: \n",
    "    \n",
    "    Load the dataset\n",
    "\n",
    "After importing all the necessary libraries, we need to load the dataset. Now, the (as company financial data and market trends)\n",
    "dataset is created with the help of the pandas\n",
    "First, we will load it and then convert it into a pandas data frame for ease of use."
   ]
  },
  {
   "cell_type": "code",
   "execution_count": null,
   "id": "3fa3f698-5da7-4c0e-a5da-c7da0980f7ed",
   "metadata": {},
   "outputs": [],
   "source": [
    "before applying PCA or any other Machine Learning technique it is always considered good practice to standardize the data.\n",
    "For this, Standard Scalar is the most commonly used scalar. Standard Scalar is already present in sklearn"
   ]
  },
  {
   "cell_type": "code",
   "execution_count": null,
   "id": "38757836-a7f4-4257-abb9-b2c19e239fcf",
   "metadata": {},
   "outputs": [],
   "source": [
    "Step-3:\n",
    "    \n",
    "Check the Co-relation between features without PCA (Optional)\n",
    "\n",
    "Now, we will check the co-relation between our scaled dataset using a heat map.\n",
    "The correlation between various features is given by the corr() function and then the\n",
    "  heat map is plotted by the heatmap() function\n",
    "sns.heatmap(scaled_data.corr())"
   ]
  },
  {
   "cell_type": "code",
   "execution_count": null,
   "id": "8e65d27d-f1ba-4e37-9d86-b3e53af4701a",
   "metadata": {},
   "outputs": [],
   "source": [
    "Step-4:\n",
    "    \n",
    "    Checking Co-relation between features after PCA\n",
    "\n",
    "Now that we have applied PCA and obtained the reduced feature set, we will check the co-relation between various Principal\n",
    "Components, again by using a heatmap.\n",
    "sns.heatmap(pca_data.corr())\n"
   ]
  },
  {
   "cell_type": "code",
   "execution_count": null,
   "id": "7e94c0de-bdfd-4bca-a4dc-3dc6fa8bdc1b",
   "metadata": {},
   "outputs": [],
   "source": []
  },
  {
   "cell_type": "markdown",
   "id": "3b92b4cf-4743-4078-971d-bea294deff91",
   "metadata": {},
   "source": [
    "## QUES NO 7"
   ]
  },
  {
   "cell_type": "code",
   "execution_count": 3,
   "id": "c051c7b1-5187-48f4-ab4b-668a563f9732",
   "metadata": {},
   "outputs": [],
   "source": [
    "import pandas as pd\n",
    "from sklearn.preprocessing import MinMaxScaler"
   ]
  },
  {
   "cell_type": "code",
   "execution_count": 9,
   "id": "03e8c07d-c3a7-48d8-a5f0-81e9f9fcca4c",
   "metadata": {},
   "outputs": [],
   "source": [
    "data = pd.DataFrame({\"column\":[1,5,10,15,20]})"
   ]
  },
  {
   "cell_type": "code",
   "execution_count": 10,
   "id": "78e8a649-6e06-4491-9a13-f8b62586d3ae",
   "metadata": {},
   "outputs": [
    {
     "data": {
      "text/html": [
       "<div>\n",
       "<style scoped>\n",
       "    .dataframe tbody tr th:only-of-type {\n",
       "        vertical-align: middle;\n",
       "    }\n",
       "\n",
       "    .dataframe tbody tr th {\n",
       "        vertical-align: top;\n",
       "    }\n",
       "\n",
       "    .dataframe thead th {\n",
       "        text-align: right;\n",
       "    }\n",
       "</style>\n",
       "<table border=\"1\" class=\"dataframe\">\n",
       "  <thead>\n",
       "    <tr style=\"text-align: right;\">\n",
       "      <th></th>\n",
       "      <th>column</th>\n",
       "    </tr>\n",
       "  </thead>\n",
       "  <tbody>\n",
       "    <tr>\n",
       "      <th>0</th>\n",
       "      <td>1</td>\n",
       "    </tr>\n",
       "    <tr>\n",
       "      <th>1</th>\n",
       "      <td>5</td>\n",
       "    </tr>\n",
       "    <tr>\n",
       "      <th>2</th>\n",
       "      <td>10</td>\n",
       "    </tr>\n",
       "    <tr>\n",
       "      <th>3</th>\n",
       "      <td>15</td>\n",
       "    </tr>\n",
       "    <tr>\n",
       "      <th>4</th>\n",
       "      <td>20</td>\n",
       "    </tr>\n",
       "  </tbody>\n",
       "</table>\n",
       "</div>"
      ],
      "text/plain": [
       "   column\n",
       "0       1\n",
       "1       5\n",
       "2      10\n",
       "3      15\n",
       "4      20"
      ]
     },
     "execution_count": 10,
     "metadata": {},
     "output_type": "execute_result"
    }
   ],
   "source": [
    "data.head()"
   ]
  },
  {
   "cell_type": "code",
   "execution_count": 11,
   "id": "666b797e-a95f-4782-ba50-5d6ec1d7deba",
   "metadata": {},
   "outputs": [],
   "source": [
    "min_max = MinMaxScaler()"
   ]
  },
  {
   "cell_type": "code",
   "execution_count": 12,
   "id": "d6cd0485-c9a5-40ac-9647-4128350a8732",
   "metadata": {},
   "outputs": [
    {
     "data": {
      "text/plain": [
       "array([[0.        ],\n",
       "       [0.21052632],\n",
       "       [0.47368421],\n",
       "       [0.73684211],\n",
       "       [1.        ]])"
      ]
     },
     "execution_count": 12,
     "metadata": {},
     "output_type": "execute_result"
    }
   ],
   "source": [
    "min_max.fit_transform(data[['column']])"
   ]
  },
  {
   "cell_type": "markdown",
   "id": "d2b26c38-2b25-4b89-9ef3-bc1d7270c0ea",
   "metadata": {},
   "source": [
    "## QUES NO 8"
   ]
  },
  {
   "cell_type": "code",
   "execution_count": 3,
   "id": "cf86e98b-30ae-4be4-aa01-df5164b80308",
   "metadata": {},
   "outputs": [],
   "source": [
    "import pandas as pd \n",
    "import seaborn as sns\n",
    "from sklearn.decomposition import PCA\n",
    "from sklearn.preprocessing import StandardScaler"
   ]
  },
  {
   "cell_type": "code",
   "execution_count": 4,
   "id": "3970850a-24eb-4d60-a0ad-aff405615edd",
   "metadata": {},
   "outputs": [],
   "source": [
    "## consider male = 0 and female = 1\n",
    "\n",
    "df = pd.DataFrame({'height':[150,152,154,156,160,165],'weight':[60,64,70,66,75,80],'age':\n",
    "             [24,28,32,35,38,45],'gender':['0','0','1','0','1','1'],'blood_pressure':\n",
    "              [90,92,91,94,90,91]})"
   ]
  },
  {
   "cell_type": "code",
   "execution_count": 5,
   "id": "83b96cb3-5b51-415d-aa59-e4e48f2912c1",
   "metadata": {},
   "outputs": [
    {
     "data": {
      "text/html": [
       "<div>\n",
       "<style scoped>\n",
       "    .dataframe tbody tr th:only-of-type {\n",
       "        vertical-align: middle;\n",
       "    }\n",
       "\n",
       "    .dataframe tbody tr th {\n",
       "        vertical-align: top;\n",
       "    }\n",
       "\n",
       "    .dataframe thead th {\n",
       "        text-align: right;\n",
       "    }\n",
       "</style>\n",
       "<table border=\"1\" class=\"dataframe\">\n",
       "  <thead>\n",
       "    <tr style=\"text-align: right;\">\n",
       "      <th></th>\n",
       "      <th>height</th>\n",
       "      <th>weight</th>\n",
       "      <th>age</th>\n",
       "      <th>gender</th>\n",
       "      <th>blood_pressure</th>\n",
       "    </tr>\n",
       "  </thead>\n",
       "  <tbody>\n",
       "    <tr>\n",
       "      <th>0</th>\n",
       "      <td>150</td>\n",
       "      <td>60</td>\n",
       "      <td>24</td>\n",
       "      <td>0</td>\n",
       "      <td>90</td>\n",
       "    </tr>\n",
       "    <tr>\n",
       "      <th>1</th>\n",
       "      <td>152</td>\n",
       "      <td>64</td>\n",
       "      <td>28</td>\n",
       "      <td>0</td>\n",
       "      <td>92</td>\n",
       "    </tr>\n",
       "    <tr>\n",
       "      <th>2</th>\n",
       "      <td>154</td>\n",
       "      <td>70</td>\n",
       "      <td>32</td>\n",
       "      <td>1</td>\n",
       "      <td>91</td>\n",
       "    </tr>\n",
       "    <tr>\n",
       "      <th>3</th>\n",
       "      <td>156</td>\n",
       "      <td>66</td>\n",
       "      <td>35</td>\n",
       "      <td>0</td>\n",
       "      <td>94</td>\n",
       "    </tr>\n",
       "    <tr>\n",
       "      <th>4</th>\n",
       "      <td>160</td>\n",
       "      <td>75</td>\n",
       "      <td>38</td>\n",
       "      <td>1</td>\n",
       "      <td>90</td>\n",
       "    </tr>\n",
       "  </tbody>\n",
       "</table>\n",
       "</div>"
      ],
      "text/plain": [
       "   height  weight  age gender  blood_pressure\n",
       "0     150      60   24      0              90\n",
       "1     152      64   28      0              92\n",
       "2     154      70   32      1              91\n",
       "3     156      66   35      0              94\n",
       "4     160      75   38      1              90"
      ]
     },
     "execution_count": 5,
     "metadata": {},
     "output_type": "execute_result"
    }
   ],
   "source": [
    "df.head()"
   ]
  },
  {
   "cell_type": "code",
   "execution_count": 6,
   "id": "c36735f7-d495-49e0-b46b-3db75d33bcff",
   "metadata": {},
   "outputs": [],
   "source": [
    "scaler=StandardScaler()"
   ]
  },
  {
   "cell_type": "code",
   "execution_count": 7,
   "id": "ac004bd4-a56e-486e-ae42-1479e4fc7f67",
   "metadata": {},
   "outputs": [],
   "source": [
    "data =pd.DataFrame(df,columns=['height','weight','age','gender','blood_pressure'])"
   ]
  },
  {
   "cell_type": "code",
   "execution_count": 8,
   "id": "f6217487-4c28-42b0-9919-447f196979dd",
   "metadata": {},
   "outputs": [
    {
     "data": {
      "text/html": [
       "<div>\n",
       "<style scoped>\n",
       "    .dataframe tbody tr th:only-of-type {\n",
       "        vertical-align: middle;\n",
       "    }\n",
       "\n",
       "    .dataframe tbody tr th {\n",
       "        vertical-align: top;\n",
       "    }\n",
       "\n",
       "    .dataframe thead th {\n",
       "        text-align: right;\n",
       "    }\n",
       "</style>\n",
       "<table border=\"1\" class=\"dataframe\">\n",
       "  <thead>\n",
       "    <tr style=\"text-align: right;\">\n",
       "      <th></th>\n",
       "      <th>height</th>\n",
       "      <th>weight</th>\n",
       "      <th>age</th>\n",
       "      <th>gender</th>\n",
       "      <th>blood_pressure</th>\n",
       "    </tr>\n",
       "  </thead>\n",
       "  <tbody>\n",
       "    <tr>\n",
       "      <th>0</th>\n",
       "      <td>150</td>\n",
       "      <td>60</td>\n",
       "      <td>24</td>\n",
       "      <td>0</td>\n",
       "      <td>90</td>\n",
       "    </tr>\n",
       "    <tr>\n",
       "      <th>1</th>\n",
       "      <td>152</td>\n",
       "      <td>64</td>\n",
       "      <td>28</td>\n",
       "      <td>0</td>\n",
       "      <td>92</td>\n",
       "    </tr>\n",
       "    <tr>\n",
       "      <th>2</th>\n",
       "      <td>154</td>\n",
       "      <td>70</td>\n",
       "      <td>32</td>\n",
       "      <td>1</td>\n",
       "      <td>91</td>\n",
       "    </tr>\n",
       "    <tr>\n",
       "      <th>3</th>\n",
       "      <td>156</td>\n",
       "      <td>66</td>\n",
       "      <td>35</td>\n",
       "      <td>0</td>\n",
       "      <td>94</td>\n",
       "    </tr>\n",
       "    <tr>\n",
       "      <th>4</th>\n",
       "      <td>160</td>\n",
       "      <td>75</td>\n",
       "      <td>38</td>\n",
       "      <td>1</td>\n",
       "      <td>90</td>\n",
       "    </tr>\n",
       "    <tr>\n",
       "      <th>5</th>\n",
       "      <td>165</td>\n",
       "      <td>80</td>\n",
       "      <td>45</td>\n",
       "      <td>1</td>\n",
       "      <td>91</td>\n",
       "    </tr>\n",
       "  </tbody>\n",
       "</table>\n",
       "</div>"
      ],
      "text/plain": [
       "   height  weight  age gender  blood_pressure\n",
       "0     150      60   24      0              90\n",
       "1     152      64   28      0              92\n",
       "2     154      70   32      1              91\n",
       "3     156      66   35      0              94\n",
       "4     160      75   38      1              90\n",
       "5     165      80   45      1              91"
      ]
     },
     "execution_count": 8,
     "metadata": {},
     "output_type": "execute_result"
    }
   ],
   "source": [
    "data"
   ]
  },
  {
   "cell_type": "code",
   "execution_count": 9,
   "id": "e5e13750-884a-47bd-9546-3a6d2e952e67",
   "metadata": {},
   "outputs": [],
   "source": [
    "scaled_data=pd.DataFrame(scaler.fit_transform(data))"
   ]
  },
  {
   "cell_type": "code",
   "execution_count": 10,
   "id": "3815b632-4178-40f9-a2f4-c9d6eae7487b",
   "metadata": {},
   "outputs": [
    {
     "data": {
      "text/html": [
       "<div>\n",
       "<style scoped>\n",
       "    .dataframe tbody tr th:only-of-type {\n",
       "        vertical-align: middle;\n",
       "    }\n",
       "\n",
       "    .dataframe tbody tr th {\n",
       "        vertical-align: top;\n",
       "    }\n",
       "\n",
       "    .dataframe thead th {\n",
       "        text-align: right;\n",
       "    }\n",
       "</style>\n",
       "<table border=\"1\" class=\"dataframe\">\n",
       "  <thead>\n",
       "    <tr style=\"text-align: right;\">\n",
       "      <th></th>\n",
       "      <th>0</th>\n",
       "      <th>1</th>\n",
       "      <th>2</th>\n",
       "      <th>3</th>\n",
       "      <th>4</th>\n",
       "    </tr>\n",
       "  </thead>\n",
       "  <tbody>\n",
       "    <tr>\n",
       "      <th>0</th>\n",
       "      <td>-1.221848</td>\n",
       "      <td>-1.359372</td>\n",
       "      <td>-1.421842</td>\n",
       "      <td>-1.0</td>\n",
       "      <td>-0.970143</td>\n",
       "    </tr>\n",
       "    <tr>\n",
       "      <th>1</th>\n",
       "      <td>-0.825573</td>\n",
       "      <td>-0.766192</td>\n",
       "      <td>-0.833494</td>\n",
       "      <td>-1.0</td>\n",
       "      <td>0.485071</td>\n",
       "    </tr>\n",
       "    <tr>\n",
       "      <th>2</th>\n",
       "      <td>-0.429298</td>\n",
       "      <td>0.123579</td>\n",
       "      <td>-0.245145</td>\n",
       "      <td>1.0</td>\n",
       "      <td>-0.242536</td>\n",
       "    </tr>\n",
       "    <tr>\n",
       "      <th>3</th>\n",
       "      <td>-0.033023</td>\n",
       "      <td>-0.469601</td>\n",
       "      <td>0.196116</td>\n",
       "      <td>-1.0</td>\n",
       "      <td>1.940285</td>\n",
       "    </tr>\n",
       "    <tr>\n",
       "      <th>4</th>\n",
       "      <td>0.759527</td>\n",
       "      <td>0.865055</td>\n",
       "      <td>0.637377</td>\n",
       "      <td>1.0</td>\n",
       "      <td>-0.970143</td>\n",
       "    </tr>\n",
       "    <tr>\n",
       "      <th>5</th>\n",
       "      <td>1.750214</td>\n",
       "      <td>1.606531</td>\n",
       "      <td>1.666987</td>\n",
       "      <td>1.0</td>\n",
       "      <td>-0.242536</td>\n",
       "    </tr>\n",
       "  </tbody>\n",
       "</table>\n",
       "</div>"
      ],
      "text/plain": [
       "          0         1         2    3         4\n",
       "0 -1.221848 -1.359372 -1.421842 -1.0 -0.970143\n",
       "1 -0.825573 -0.766192 -0.833494 -1.0  0.485071\n",
       "2 -0.429298  0.123579 -0.245145  1.0 -0.242536\n",
       "3 -0.033023 -0.469601  0.196116 -1.0  1.940285\n",
       "4  0.759527  0.865055  0.637377  1.0 -0.970143\n",
       "5  1.750214  1.606531  1.666987  1.0 -0.242536"
      ]
     },
     "execution_count": 10,
     "metadata": {},
     "output_type": "execute_result"
    }
   ],
   "source": [
    "scaled_data"
   ]
  },
  {
   "cell_type": "code",
   "execution_count": 11,
   "id": "bd76f42b-ed7e-4102-a800-64cf9246c747",
   "metadata": {},
   "outputs": [
    {
     "data": {
      "text/plain": [
       "<AxesSubplot: >"
      ]
     },
     "execution_count": 11,
     "metadata": {},
     "output_type": "execute_result"
    },
    {
     "data": {
      "image/png": "[encoded data removed]",
      "text/plain": [
       "<Figure size 640x480 with 2 Axes>"
      ]
     },
     "metadata": {},
     "output_type": "display_data"
    }
   ],
   "source": [
    "sns.heatmap(scaled_data.corr())"
   ]
  },
  {
   "cell_type": "code",
   "execution_count": 12,
   "id": "ad25f077-c467-451e-9fe0-addc72d7c45a",
   "metadata": {},
   "outputs": [],
   "source": [
    "pca = PCA(n_components=3)\n",
    "pca_data = pca.fit_transform(scaled_data)\n",
    "pca_data = pd.DataFrame(pca_data,columns=['PC1','PC2','PC3'])"
   ]
  },
  {
   "cell_type": "code",
   "execution_count": 13,
   "id": "e9f5fd8d-44d0-4f01-99ee-d21c7da22858",
   "metadata": {},
   "outputs": [
    {
     "data": {
      "text/html": [
       "<div>\n",
       "<style scoped>\n",
       "    .dataframe tbody tr th:only-of-type {\n",
       "        vertical-align: middle;\n",
       "    }\n",
       "\n",
       "    .dataframe tbody tr th {\n",
       "        vertical-align: top;\n",
       "    }\n",
       "\n",
       "    .dataframe thead th {\n",
       "        text-align: right;\n",
       "    }\n",
       "</style>\n",
       "<table border=\"1\" class=\"dataframe\">\n",
       "  <thead>\n",
       "    <tr style=\"text-align: right;\">\n",
       "      <th></th>\n",
       "      <th>PC1</th>\n",
       "      <th>PC2</th>\n",
       "      <th>PC3</th>\n",
       "    </tr>\n",
       "  </thead>\n",
       "  <tbody>\n",
       "    <tr>\n",
       "      <th>0</th>\n",
       "      <td>-2.370936</td>\n",
       "      <td>-1.216485</td>\n",
       "      <td>-0.443277</td>\n",
       "    </tr>\n",
       "    <tr>\n",
       "      <th>1</th>\n",
       "      <td>-1.749769</td>\n",
       "      <td>0.323742</td>\n",
       "      <td>-0.052382</td>\n",
       "    </tr>\n",
       "    <tr>\n",
       "      <th>2</th>\n",
       "      <td>0.216885</td>\n",
       "      <td>-0.696074</td>\n",
       "      <td>0.886985</td>\n",
       "    </tr>\n",
       "    <tr>\n",
       "      <th>3</th>\n",
       "      <td>-0.865862</td>\n",
       "      <td>2.064601</td>\n",
       "      <td>0.069026</td>\n",
       "    </tr>\n",
       "    <tr>\n",
       "      <th>4</th>\n",
       "      <td>1.731325</td>\n",
       "      <td>-0.815966</td>\n",
       "      <td>-0.094467</td>\n",
       "    </tr>\n",
       "    <tr>\n",
       "      <th>5</th>\n",
       "      <td>3.038357</td>\n",
       "      <td>0.340182</td>\n",
       "      <td>-0.365885</td>\n",
       "    </tr>\n",
       "  </tbody>\n",
       "</table>\n",
       "</div>"
      ],
      "text/plain": [
       "        PC1       PC2       PC3\n",
       "0 -2.370936 -1.216485 -0.443277\n",
       "1 -1.749769  0.323742 -0.052382\n",
       "2  0.216885 -0.696074  0.886985\n",
       "3 -0.865862  2.064601  0.069026\n",
       "4  1.731325 -0.815966 -0.094467\n",
       "5  3.038357  0.340182 -0.365885"
      ]
     },
     "execution_count": 13,
     "metadata": {},
     "output_type": "execute_result"
    }
   ],
   "source": [
    "pca_data"
   ]
  },
  {
   "cell_type": "code",
   "execution_count": 14,
   "id": "194f43aa-82a3-4aa4-b2ad-d46251d3736b",
   "metadata": {},
   "outputs": [
    {
     "data": {
      "text/plain": [
       "<AxesSubplot: >"
      ]
     },
     "execution_count": 14,
     "metadata": {},
     "output_type": "execute_result"
    },
    {
     "data": {
      "image/png": "[encoded data removed]",
      "text/plain": [
       "<Figure size 640x480 with 2 Axes>"
      ]
     },
     "metadata": {},
     "output_type": "display_data"
    }
   ],
   "source": [
    "sns.heatmap(pca_data.corr())"
   ]
  },
  {
   "cell_type": "code",
   "execution_count": null,
   "id": "d9df351e-fa32-4ba8-b950-0e3feb2d047f",
   "metadata": {},
   "outputs": [],
   "source": [
    "During pca I would like to reatain age ,weight ,height because it varry from one person \n",
    "to another and some feature like Bkood pressure and does not affect a"
   ]
  },
  {
   "cell_type": "code",
   "execution_count": null,
   "id": "42f401fa-4f77-4746-8c64-c894a00ef396",
   "metadata": {},
   "outputs": [],
   "source": []
  },
  {
   "cell_type": "code",
   "execution_count": null,
   "id": "e1bc40f0-af72-4654-a4ba-fb0fcfd6c230",
   "metadata": {},
   "outputs": [],
   "source": []
  }
 ],
 "metadata": {
  "kernelspec": {
   "display_name": "Python 3 (ipykernel)",
   "language": "python",
   "name": "python3"
  },
  "language_info": {
   "codemirror_mode": {
    "name": "ipython",
    "version": 3
   },
   "file_extension": ".py",
   "mimetype": "text/x-python",
   "name": "python",
   "nbconvert_exporter": "python",
   "pygments_lexer": "ipython3",
   "version": "3.10.8"
  }
 },
 "nbformat": 4,
 "nbformat_minor": 5
}
